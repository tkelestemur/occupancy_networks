{
 "cells": [
  {
   "cell_type": "code",
   "execution_count": 1,
   "id": "34c46424",
   "metadata": {},
   "outputs": [
    {
     "name": "stdout",
     "output_type": "stream",
     "text": [
      "Jupyter environment detected. Enabling Open3D WebVisualizer.\n",
      "[Open3D INFO] WebRTC GUI backend enabled.\n",
      "[Open3D INFO] WebRTCWindowSystem: HTTP handshake server disabled.\n"
     ]
    }
   ],
   "source": [
    "import os\n",
    "import torch\n",
    "import numpy as np\n",
    "import open3d as o3d\n",
    "import gpytorch\n",
    "from im2mesh import config\n",
    "from im2mesh.checkpoints import CheckpointIO\n",
    "from im2mesh.common import make_3d_grid"
   ]
  },
  {
   "cell_type": "code",
   "execution_count": 2,
   "id": "84221e2c",
   "metadata": {},
   "outputs": [
    {
     "name": "stdout",
     "output_type": "stream",
     "text": [
      "https://s3.eu-central-1.amazonaws.com/avg-projects/occupancy_networks/models/onet_pcl2mesh-5c0be168.pt\n",
      "=> Loading checkpoint from url...\n"
     ]
    }
   ],
   "source": [
    "device = torch.device('cpu')\n",
    "cfg = config.load_config('configs/pointcloud/onet_pretrained.yaml', 'configs/default.yaml')\n",
    "\n",
    "dataset = config.get_dataset('test', cfg, return_idx=True)\n",
    "model = config.get_model(cfg, device=device, dataset=dataset)\n",
    "\n",
    "checkpoint_io = CheckpointIO(cfg['training']['out_dir'], model=model)\n",
    "re = checkpoint_io.load(cfg['test']['model_file'])"
   ]
  },
  {
   "cell_type": "code",
   "execution_count": 3,
   "id": "98878c90",
   "metadata": {},
   "outputs": [],
   "source": [
    "def get_data_sample(idx=500):\n",
    "\n",
    "    data = dataset[idx]\n",
    "    inputs = torch.from_numpy(data.get('inputs'))\n",
    "    inputs = inputs.unsqueeze(0).to(device)\n",
    "\n",
    "    points = torch.from_numpy(data.get('points'))\n",
    "    points = points.unsqueeze(0).to(device)\n",
    "    return inputs, points\n",
    "\n",
    "def get_metadata(idx=500):\n",
    "    meta = dataset.models[idx]\n",
    "    return meta\n",
    "\n",
    "def predict(inputs, points):\n",
    "    kwargs = {}\n",
    "    model.eval()\n",
    "    with torch.no_grad():\n",
    "        c = model.encode_inputs(inputs)\n",
    "        occ_hat = model.decode(points, z=None, c=c, **kwargs)\n",
    "\n",
    "    return occ_hat.logits.squeeze()"
   ]
  },
  {
   "cell_type": "code",
   "execution_count": 69,
   "id": "844cc3b8",
   "metadata": {},
   "outputs": [],
   "source": [
    "nx = 32\n",
    "box_size = 1.1\n",
    "points_grid = box_size * make_3d_grid((-0.5,)*3, (0.5,)*3, (nx,)*3)\n",
    "points_grid = points_grid.unsqueeze(0).to(device)"
   ]
  },
  {
   "cell_type": "code",
   "execution_count": 70,
   "id": "5788fc60",
   "metadata": {},
   "outputs": [],
   "source": [
    "# idx = 1658\n",
    "idx = 2000\n",
    "inputs, points = get_data_sample(idx=idx)\n",
    "meta = get_metadata(idx=idx)\n",
    "occ_hat = predict(inputs, points_grid)"
   ]
  },
  {
   "cell_type": "code",
   "execution_count": 71,
   "id": "0aa30082",
   "metadata": {},
   "outputs": [
    {
     "name": "stdout",
     "output_type": "stream",
     "text": [
      "num of points eval: torch.Size([32768])\n",
      "num of pred points: torch.Size([166])\n"
     ]
    }
   ],
   "source": [
    "occ_hat_pred = torch.where(occ_hat > 0.8)\n",
    "print('num of points eval: {}'.format(occ_hat.shape))\n",
    "print('num of pred points: {}'.format(occ_hat_pred[0].shape))"
   ]
  },
  {
   "cell_type": "code",
   "execution_count": 72,
   "id": "16a4604d",
   "metadata": {},
   "outputs": [],
   "source": [
    "class OccNetMean(gpytorch.means.Mean):\n",
    "    def __init__(self, occ_net, shape_code, batch_shape=torch.Size()):\n",
    "        super(OccNetMean, self).__init__()\n",
    "        self.batch_shape = batch_shape\n",
    "        self.occ_net = occ_net\n",
    "        self.occ_net.eval()\n",
    "        self.shape_code = shape_code\n",
    "        \n",
    "    def forward(self, x):\n",
    "        if len(x.size()) == 2:\n",
    "            x = x.unsqueeze(0)\n",
    "        with torch.no_grad():\n",
    "            occ_hat = self.occ_net.decode(x, z=None, c=self.shape_code).logits\n",
    "\n",
    "        return occ_hat.squeeze()\n",
    "\n",
    "class ExactGPModel(gpytorch.models.ExactGP):\n",
    "    def __init__(self, train_x, train_y, likelihood, shape_code, occ_net,\n",
    "                 kernel='matern', mean_fun='occ', n=None, l=None):\n",
    "        super(ExactGPModel, self).__init__(train_x, train_y, likelihood)\n",
    "        if mean_fun == 'zero':\n",
    "            self.mean_module = gpytorch.means.ZeroMean()\n",
    "        elif mean_fun == 'occ':\n",
    "            self.mean_module = OccNetMean(occ_net=occ_net, shape_code=shape_code)\n",
    "            \n",
    "        if kernel == 'rbf':\n",
    "            self.covar_module = gpytorch.kernels.RBFKernel()\n",
    "        elif kernel == 'matern':\n",
    "            self.covar_module = gpytorch.kernels.MaternKernel()\n",
    "    \n",
    "        self.set_hparams(n, l)\n",
    "    \n",
    "    def forward(self, x):\n",
    "        mean_x = self.mean_module(x)\n",
    "        covar_x = self.covar_module(x)\n",
    "        return gpytorch.distributions.MultivariateNormal(mean_x, covar_x)\n",
    "    \n",
    "    def set_hparams(self, n, l):\n",
    "        if n is not None:\n",
    "            self.likelihood.noise = n\n",
    "        if l is not None:\n",
    "            self.covar_module.lengthscale = l\n",
    "        print('likelihood noise:   {}'.format(self.likelihood.noise.item()))\n",
    "        print('kernel lengthscale: {}'.format(self.covar_module.lengthscale.item()))\n",
    "\n",
    "def evaluate_gp(model, likelihood, test_x):\n",
    "    model.eval()\n",
    "    likelihood.eval()\n",
    "\n",
    "    with torch.no_grad():\n",
    "        pred_y = likelihood(model(test_x))\n",
    "    \n",
    "    return pred_y\n",
    "\n",
    "def train_gp(model, likelihood, num_iter=100):\n",
    "    model.train()\n",
    "    likelihood.train()\n",
    "\n",
    "    optimizer = torch.optim.Adam(model.parameters(), lr=0.5) \n",
    "    mll = gpytorch.mlls.ExactMarginalLogLikelihood(likelihood, model)\n",
    "    for i in range(num_iter):\n",
    "        optimizer.zero_grad()\n",
    "        output = model(train_x)\n",
    "        loss = -mll(output, train_y)\n",
    "        loss.backward()\n",
    "        print('Iter %d/%d - Loss: %.3f' % (i + 1, num_iter, loss.item()))\n",
    "        print('Lengthscale: {} Likelihood Noise: {}'.format(\n",
    "            model.covar_module.lengthscale.item(), gp.likelihood.noise.item()))\n",
    "        optimizer.step()"
   ]
  },
  {
   "cell_type": "code",
   "execution_count": 73,
   "id": "cfa521ce",
   "metadata": {},
   "outputs": [],
   "source": [
    "# mesh.translate\n",
    "\n",
    "\n",
    "points_grid_np = points_grid.squeeze().cpu()\n",
    "grid_pc = o3d.geometry.PointCloud()\n",
    "grid_pc.points = o3d.utility.Vector3dVector(points_grid_np)\n",
    "grid_pc.paint_uniform_color([1, 0, 0])\n",
    "\n",
    "\n",
    "o3d.visualization.draw_geometries([grid_pc])"
   ]
  },
  {
   "cell_type": "code",
   "execution_count": 74,
   "id": "633846bd",
   "metadata": {},
   "outputs": [
    {
     "name": "stdout",
     "output_type": "stream",
     "text": [
      "train shape: torch.Size([300, 3])\n",
      "test shape : torch.Size([32768, 3])\n"
     ]
    }
   ],
   "source": [
    "train_x = inputs.squeeze().cpu()\n",
    "train_y = torch.ones(train_x.shape[0]) * 10\n",
    "test_x = points_grid.squeeze()\n",
    "print('train shape: {}'.format(train_x.shape))\n",
    "print('test shape : {}'.format(test_x.shape))\n",
    "with torch.no_grad():\n",
    "    shape_code = model.encode_inputs(inputs)"
   ]
  },
  {
   "cell_type": "code",
   "execution_count": 75,
   "id": "d466d192",
   "metadata": {},
   "outputs": [
    {
     "name": "stdout",
     "output_type": "stream",
     "text": [
      "likelihood noise:   0.010000001639127731\n",
      "kernel lengthscale: 1.0\n"
     ]
    }
   ],
   "source": [
    "likelihood = gpytorch.likelihoods.GaussianLikelihood()\n",
    "gp = ExactGPModel(\n",
    "    train_x, train_y, likelihood, shape_code=shape_code, \n",
    "    occ_net=model, kernel='rbf', l=1, n=0.01)\n",
    "# train_gp(gp, likelihood, num_iter=1000)"
   ]
  },
  {
   "cell_type": "code",
   "execution_count": 76,
   "id": "548e941d",
   "metadata": {},
   "outputs": [
    {
     "name": "stdout",
     "output_type": "stream",
     "text": [
      "tensor(0.1892)\n",
      "tensor(0.0101)\n",
      "torch.Size([344])\n"
     ]
    }
   ],
   "source": [
    "pred_logits = evaluate_gp(gp, likelihood, test_x)\n",
    "pred_probs = torch.sigmoid(pred_logits.mean)\n",
    "pred_probs_hat = torch.where(pred_probs.squeeze() > 0.99)\n",
    "# pred_probs_hat = torch.where(pred_logits.variance.squeeze() < 0.011)\n",
    "print(pred_logits.variance.max())\n",
    "print(pred_logits.variance.min())\n",
    "print(pred_probs_hat[0].shape)"
   ]
  },
  {
   "cell_type": "code",
   "execution_count": 77,
   "id": "ed16597d",
   "metadata": {},
   "outputs": [],
   "source": [
    "shapenet_path = '/home/tarik/projects/datasets/shapenet/ShapeNetCore.v1'\n",
    "mesh = o3d.io.read_triangle_mesh(os.path.join(shapenet_path, meta['category'], meta['model'], 'model.obj'))\n",
    "mesh = mesh.translate(np.array([0, 0, 1.0]))\n",
    "\n",
    "inputs_np = inputs.squeeze().cpu().numpy()\n",
    "input_pc = o3d.geometry.PointCloud()\n",
    "input_pc.points = o3d.utility.Vector3dVector(inputs_np)\n",
    "input_pc.paint_uniform_color([0, 1, 0])\n",
    "\n",
    "points_grid_pred = points_grid[0, occ_hat_pred[0]].cpu().numpy()\n",
    "output_pc = o3d.geometry.PointCloud()\n",
    "output_pc.points = o3d.utility.Vector3dVector(points_grid_pred)\n",
    "output_pc.paint_uniform_color([1, 0, 0])\n",
    "output_pc.translate([0, 0, 2.0])\n",
    "\n",
    "points_grid_pred = points_grid[0, pred_probs_hat[0]].cpu().numpy()\n",
    "output_gp_pc = o3d.geometry.PointCloud()\n",
    "output_gp_pc.points = o3d.utility.Vector3dVector(points_grid_pred)\n",
    "output_gp_pc.paint_uniform_color([0, 0, 1])\n",
    "\n",
    "input_pc_t = o3d.geometry.PointCloud(input_pc)\n",
    "input_pc_t.translate([0, 0, 2.0])\n",
    "\n",
    "o3d.visualization.draw_geometries([output_gp_pc, input_pc, mesh, output_pc, input_pc_t])"
   ]
  },
  {
   "cell_type": "code",
   "execution_count": null,
   "id": "e0d01630",
   "metadata": {},
   "outputs": [],
   "source": []
  }
 ],
 "metadata": {
  "kernelspec": {
   "display_name": "Python 3 (ipykernel)",
   "language": "python",
   "name": "python3"
  },
  "language_info": {
   "codemirror_mode": {
    "name": "ipython",
    "version": 3
   },
   "file_extension": ".py",
   "mimetype": "text/x-python",
   "name": "python",
   "nbconvert_exporter": "python",
   "pygments_lexer": "ipython3",
   "version": "3.8.10"
  }
 },
 "nbformat": 4,
 "nbformat_minor": 5
}
