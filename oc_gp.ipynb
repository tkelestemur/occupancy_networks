{
 "cells": [
  {
   "cell_type": "code",
   "execution_count": 1,
   "id": "34c46424",
   "metadata": {},
   "outputs": [
    {
     "name": "stdout",
     "output_type": "stream",
     "text": [
      "Jupyter environment detected. Enabling Open3D WebVisualizer.\n",
      "[Open3D INFO] WebRTC GUI backend enabled.\n",
      "[Open3D INFO] WebRTCWindowSystem: HTTP handshake server disabled.\n",
      "[Open3D INFO] Resetting default logger to print to terminal.\n"
     ]
    }
   ],
   "source": [
    "import torch\n",
    "import numpy as np\n",
    "import open3d as o3d\n",
    "from open3d.web_visualizer import draw\n",
    "import gpytorch\n",
    "from im2mesh import config\n",
    "from im2mesh.checkpoints import CheckpointIO\n",
    "from im2mesh.common import make_3d_grid"
   ]
  },
  {
   "cell_type": "code",
   "execution_count": 28,
   "id": "84221e2c",
   "metadata": {},
   "outputs": [
    {
     "name": "stdout",
     "output_type": "stream",
     "text": [
      "https://s3.eu-central-1.amazonaws.com/avg-projects/occupancy_networks/models/onet_pcl2mesh-5c0be168.pt\n",
      "=> Loading checkpoint from url...\n"
     ]
    }
   ],
   "source": [
    "device = torch.device('cpu')\n",
    "cfg = config.load_config('configs/pointcloud/onet_pretrained.yaml', 'configs/default.yaml')\n",
    "\n",
    "dataset = config.get_dataset('test', cfg, return_idx=True)\n",
    "model = config.get_model(cfg, device=device, dataset=dataset)\n",
    "\n",
    "checkpoint_io = CheckpointIO(cfg['training']['out_dir'], model=model)\n",
    "re = checkpoint_io.load(cfg['test']['model_file'])"
   ]
  },
  {
   "cell_type": "code",
   "execution_count": 29,
   "id": "98878c90",
   "metadata": {},
   "outputs": [],
   "source": [
    "def get_data_sample(idx=500):\n",
    "\n",
    "    data = dataset[idx]\n",
    "    print(dataset.metadata[dataset.get_model_dict(idx)['category']])\n",
    "    \n",
    "    inputs = torch.from_numpy(data.get('inputs'))\n",
    "    inputs = inputs.unsqueeze(0).to(device)\n",
    "\n",
    "    points = torch.from_numpy(data.get('points'))\n",
    "    points = points.unsqueeze(0).to(device)\n",
    "    return inputs, points\n",
    "\n",
    "def predict(inputs, points):\n",
    "    kwargs = {}\n",
    "    model.eval()\n",
    "    with torch.no_grad():\n",
    "        c = model.encode_inputs(inputs)\n",
    "        occ_hat = model.decode(points, z=None, c=c, **kwargs).probs\n",
    "\n",
    "    return occ_hat.squeeze()"
   ]
  },
  {
   "cell_type": "code",
   "execution_count": 30,
   "id": "844cc3b8",
   "metadata": {},
   "outputs": [],
   "source": [
    "nx = 32\n",
    "box_size = 1.1\n",
    "points_grid = box_size * make_3d_grid((-0.5,)*3, (0.5,)*3, (nx,)*3)\n",
    "points_grid = points_grid.unsqueeze(0).to(device)"
   ]
  },
  {
   "cell_type": "code",
   "execution_count": 31,
   "id": "5788fc60",
   "metadata": {},
   "outputs": [
    {
     "name": "stdout",
     "output_type": "stream",
     "text": [
      "{'id': '02691156', 'name': 'airplane,aeroplane,plane', 'idx': 4}\n",
      "torch.Size([1, 300, 3]) torch.Size([1, 2048, 3])\n",
      "torch.Size([32768])\n"
     ]
    }
   ],
   "source": [
    "inputs, points = get_data_sample(idx=2000)\n",
    "print(inputs.shape, points.shape)\n",
    "occ_hat = predict(inputs, points_grid)\n",
    "print(occ_hat.shape)"
   ]
  },
  {
   "cell_type": "code",
   "execution_count": 66,
   "id": "0aa30082",
   "metadata": {},
   "outputs": [
    {
     "name": "stdout",
     "output_type": "stream",
     "text": [
      "num of points eval: torch.Size([32768])\n",
      "num of pred points: torch.Size([177])\n"
     ]
    },
    {
     "data": {
      "text/plain": [
       "(tensor([ 4559,  4560,  5583,  5584,  6607,  6608,  6639,  6640,  7631,  7632,\n",
       "          7663,  7664,  8623,  8624,  8655,  8656,  8687,  8688,  9647,  9648,\n",
       "          9679,  9680,  9711,  9712, 10671, 10672, 10703, 10704, 10735, 10736,\n",
       "         11695, 11696, 11727, 11728, 11746, 11759, 11760, 12719, 12720, 12751,\n",
       "         12752, 12783, 12784, 13743, 13744, 13767, 13775, 13776, 13784, 13807,\n",
       "         13808, 14766, 14767, 14768, 14791, 14792, 14793, 14799, 14800, 14806,\n",
       "         14807, 14808, 14831, 14832, 15789, 15790, 15791, 15792, 15793, 15794,\n",
       "         15816, 15817, 15818, 15823, 15824, 15829, 15830, 15831, 15855, 15856,\n",
       "         16813, 16814, 16815, 16816, 16817, 16818, 16841, 16842, 16847, 16848,\n",
       "         16853, 16854, 16879, 16880, 17835, 17838, 17839, 17840, 17841, 17842,\n",
       "         17844, 17871, 17872, 17903, 17904, 18859, 18862, 18863, 18864, 18865,\n",
       "         18868, 18895, 18896, 18927, 18928, 19851, 19860, 19883, 19886, 19887,\n",
       "         19888, 19889, 19892, 19919, 19920, 19951, 19952, 20875, 20884, 20907,\n",
       "         20911, 20912, 20916, 20943, 20944, 20975, 20976, 21935, 21936, 21967,\n",
       "         21968, 21999, 22000, 22959, 22960, 22991, 22992, 23023, 23024, 23983,\n",
       "         23984, 24015, 24016, 24047, 24048, 25007, 25008, 25039, 25040, 25071,\n",
       "         25072, 26031, 26032, 26063, 26064, 26095, 26096, 27055, 27056, 27087,\n",
       "         27088, 28079, 28080, 28111, 28112, 29135, 29136]),)"
      ]
     },
     "execution_count": 66,
     "metadata": {},
     "output_type": "execute_result"
    }
   ],
   "source": [
    "occ_hat_pred = torch.where(occ_hat > 0.5)\n",
    "print('num of points eval: {}'.format(occ_hat.shape))\n",
    "print('num of pred points: {}'.format(occ_hat_pred[0].shape))"
   ]
  },
  {
   "cell_type": "code",
   "execution_count": 33,
   "id": "cfa521ce",
   "metadata": {},
   "outputs": [
    {
     "name": "stdout",
     "output_type": "stream",
     "text": [
      "[Open3D INFO] Window window_0 created.\n",
      "[Open3D INFO] EGL headless mode enabled.\n"
     ]
    },
    {
     "data": {
      "application/vnd.jupyter.widget-view+json": {
       "model_id": "6ba456b59c8047ccb52b57dfcff3a9f5",
       "version_major": 2,
       "version_minor": 0
      },
      "text/plain": [
       "WebVisualizer(window_uid='window_0')"
      ]
     },
     "metadata": {},
     "output_type": "display_data"
    },
    {
     "name": "stdout",
     "output_type": "stream",
     "text": [
      "[Open3D INFO] ICE servers: {\"stun:stun.l.google.com:19302\", \"turn:user:password@34.69.27.100:3478\", \"turn:user:password@34.69.27.100:3478?transport=tcp\"}\n",
      "FEngine (64 bits) created at 0x7fb660007460 (threading is enabled)\n",
      "[Open3D INFO] Set WEBRTC_STUN_SERVER environment variable add a customized WebRTC STUN server.\n",
      "[Open3D INFO] WebRTC Jupyter handshake mode enabled.\n",
      "[Open3D INFO] [Called HTTP API (custom handshake)] /api/call\n",
      "[Open3D INFO] [Called HTTP API (custom handshake)] /api/addIceCandidate\n",
      "[Open3D INFO] [Called HTTP API (custom handshake)] /api/addIceCandidate\n",
      "[Open3D INFO] [Called HTTP API (custom handshake)] /api/addIceCandidate\n",
      "[Open3D INFO] [Called HTTP API (custom handshake)] /api/addIceCandidate\n",
      "[Open3D INFO] [Called HTTP API (custom handshake)] /api/addIceCandidate\n",
      "[Open3D INFO] [Called HTTP API (custom handshake)] /api/addIceCandidate\n",
      "[Open3D INFO] [Called HTTP API (custom handshake)] /api/addIceCandidate\n",
      "[Open3D INFO] [Called HTTP API (custom handshake)] /api/addIceCandidate\n",
      "[Open3D INFO] [Called HTTP API (custom handshake)] /api/getIceCandidate\n",
      "[Open3D INFO] DataChannelObserver::OnStateChange label: ServerDataChannel, state: open, peerid: 0.16416993557242843\n",
      "[Open3D INFO] DataChannelObserver::OnStateChange label: ClientDataChannel, state: open, peerid: 0.16416993557242843\n",
      "[Open3D INFO] Sending init frames to window_0.\n"
     ]
    }
   ],
   "source": [
    "points_grid_np = points_grid.squeeze().cpu()\n",
    "grid_colors = np.zeros(points_grid_np.shape)\n",
    "grid_colors[:, 2] = 1\n",
    "grid_pc = o3d.geometry.PointCloud()\n",
    "grid_pc.points = o3d.utility.Vector3dVector(points_grid_np)\n",
    "grid_pc.colors = o3d.utility.Vector3dVector(grid_colors)\n",
    "\n",
    "points_grid_pred = points_grid[0, occ_hat_pred[0]].cpu().numpy()\n",
    "output_colors = np.zeros(points_grid_pred.shape)\n",
    "output_colors[:, 0] = 1\n",
    "output_pc = o3d.geometry.PointCloud()\n",
    "output_pc.points = o3d.utility.Vector3dVector(points_grid_pred)\n",
    "output_pc.colors = o3d.utility.Vector3dVector(output_colors)\n",
    "\n",
    "\n",
    "inputs_np = inputs.squeeze().cpu().numpy()\n",
    "input_colors = np.zeros(inputs_np.shape)\n",
    "input_colors[:, 1] = 1\n",
    "input_pc = o3d.geometry.PointCloud()\n",
    "input_pc.points = o3d.utility.Vector3dVector(inputs_np)\n",
    "input_pc.colors = o3d.utility.Vector3dVector(input_colors)\n",
    "\n",
    "draw([output_pc, input_pc])"
   ]
  },
  {
   "cell_type": "code",
   "execution_count": 52,
   "id": "16a4604d",
   "metadata": {},
   "outputs": [],
   "source": [
    "class OccNetMean(gpytorch.means.Mean):\n",
    "    def __init__(self, occ_net, shape_code, batch_shape=torch.Size()):\n",
    "        super(OccNetMean, self).__init__()\n",
    "        self.batch_shape = batch_shape\n",
    "        self.occ_net = occ_net.to('cpu')\n",
    "        self.occ_net.eval()\n",
    "        self.shape_code = shape_code\n",
    "        \n",
    "    def forward(self, x):\n",
    "        if len(x.size()) == 2:\n",
    "            x = x.unsqueeze(0)\n",
    "        print(x.shape)\n",
    "        with torch.no_grad():\n",
    "            occ_hat = self.occ_net.decode(x, z=None, c=self.shape_code).probs\n",
    "\n",
    "        return occ_hat.squeeze()\n",
    "\n",
    "class ExactGPModel(gpytorch.models.ExactGP):\n",
    "    def __init__(self, train_x, train_y, likelihood, shape_code, occ_net,\n",
    "                 kernel='rbf', mean_fun='occ', n=None, l=None):\n",
    "        super(ExactGPModel, self).__init__(train_x, train_y, likelihood)\n",
    "        if mean_fun == 'zero':\n",
    "            self.mean_module = gpytorch.means.ZeroMean()\n",
    "        elif mean_fun == 'occ':\n",
    "            self.mean_module = OccNetMean(occ_net=occ_net, shape_code=shape_code)\n",
    "            \n",
    "        if kernel == 'rbf':\n",
    "            self.covar_module = gpytorch.kernels.RBFKernel()\n",
    "    \n",
    "        self.set_hparams(n, l)\n",
    "    \n",
    "    def forward(self, x):\n",
    "        mean_x = self.mean_module(x)\n",
    "        covar_x = self.covar_module(x)\n",
    "        return gpytorch.distributions.MultivariateNormal(mean_x, covar_x)\n",
    "    \n",
    "    def set_hparams(self, n, l):\n",
    "        if n is not None:\n",
    "            self.likelihood.noise = n\n",
    "        if l is not None:\n",
    "            self.covar_module.lengthscale = l\n",
    "        print('likelihood noise:   {}'.format(self.likelihood.noise.item()))\n",
    "        print('kernel lengthscale: {}'.format(self.covar_module.lengthscale.item()))\n",
    "\n",
    "def evaluate_gp(model, likelihood, test_x):\n",
    "    model.eval()\n",
    "    likelihood.eval()\n",
    "\n",
    "    with torch.no_grad():\n",
    "        pred_y = likelihood(model(test_x))\n",
    "    \n",
    "    return pred_y\n",
    "\n",
    "def train_gp(model, likelihood, num_iter=1000):\n",
    "    model.train()\n",
    "    likelihood.train()\n",
    "\n",
    "    optimizer = torch.optim.Adam(model.parameters(), lr=0.5) \n",
    "    mll = gpytorch.mlls.ExactMarginalLogLikelihood(likelihood, model)\n",
    "    for i in range(num_iter):\n",
    "        optimizer.zero_grad()\n",
    "        output = model(train_x)\n",
    "        loss = -mll(output, train_y)\n",
    "        loss.backward()\n",
    "#         print('Iter %d/%d - Loss: %.3f' % (i + 1, num_epochs, loss.item()))\n",
    "        optimizer.step()"
   ]
  },
  {
   "cell_type": "code",
   "execution_count": 53,
   "id": "633846bd",
   "metadata": {},
   "outputs": [],
   "source": [
    "train_x = inputs.squeeze().cpu()\n",
    "train_y = torch.ones(train_x.shape[0])\n",
    "likelihood = gpytorch.likelihoods.GaussianLikelihood()"
   ]
  },
  {
   "cell_type": "code",
   "execution_count": 83,
   "id": "d466d192",
   "metadata": {},
   "outputs": [
    {
     "name": "stdout",
     "output_type": "stream",
     "text": [
      "likelihood noise:   0.010000001639127731\n",
      "kernel lengthscale: 0.10000000149011612\n"
     ]
    }
   ],
   "source": [
    "with torch.no_grad():\n",
    "    shape_code = model.encode_inputs(inputs)\n",
    "model_rbf = ExactGPModel(train_x, train_y, likelihood, shape_code=shape_code, occ_net=model, n=0.01, l=0.1)"
   ]
  },
  {
   "cell_type": "code",
   "execution_count": 84,
   "id": "8ec77316",
   "metadata": {},
   "outputs": [
    {
     "name": "stdout",
     "output_type": "stream",
     "text": [
      "torch.Size([1, 300, 3])\n",
      "torch.Size([1, 33068, 3])\n"
     ]
    }
   ],
   "source": [
    "pred_y = evaluate_gp(model_rbf, likelihood, points_grid)"
   ]
  },
  {
   "cell_type": "code",
   "execution_count": 93,
   "id": "548e941d",
   "metadata": {},
   "outputs": [],
   "source": [
    "pred_y_thresh = torch.where(pred_y.mean.squeeze() > 0.99)"
   ]
  },
  {
   "cell_type": "code",
   "execution_count": 94,
   "id": "ed16597d",
   "metadata": {},
   "outputs": [
    {
     "name": "stdout",
     "output_type": "stream",
     "text": [
      "(3984, 3)\n",
      "[Open3D INFO] Window window_9 created.\n"
     ]
    },
    {
     "data": {
      "application/vnd.jupyter.widget-view+json": {
       "model_id": "b6f992bb8dfd48aea3637d252130139e",
       "version_major": 2,
       "version_minor": 0
      },
      "text/plain": [
       "WebVisualizer(window_uid='window_9')"
      ]
     },
     "metadata": {},
     "output_type": "display_data"
    },
    {
     "name": "stdout",
     "output_type": "stream",
     "text": [
      "[Open3D INFO] [Called HTTP API (custom handshake)] /api/addIceCandidate\n",
      "[Open3D INFO] [Called HTTP API (custom handshake)] /api/addIceCandidate\n",
      "[Open3D INFO] [Called HTTP API (custom handshake)] /api/addIceCandidate\n",
      "[Open3D INFO] [Called HTTP API (custom handshake)] /api/addIceCandidate\n",
      "[Open3D INFO] [Called HTTP API (custom handshake)] /api/addIceCandidate\n",
      "[Open3D INFO] [Called HTTP API (custom handshake)] /api/addIceCandidate\n",
      "[Open3D INFO] [Called HTTP API (custom handshake)] /api/addIceCandidate\n",
      "[Open3D INFO] [Called HTTP API (custom handshake)] /api/getIceCandidate\n",
      "[Open3D INFO] DataChannelObserver::OnStateChange label: ServerDataChannel, state: open, peerid: 0.8957463745930327\n",
      "[Open3D INFO] DataChannelObserver::OnStateChange label: ClientDataChannel, state: open, peerid: 0.8957463745930327\n",
      "[Open3D INFO] Sending init frames to window_9.\n"
     ]
    },
    {
     "name": "stderr",
     "output_type": "stream",
     "text": [
      "[2602:994][79505] (stun_port.cc:96): Binding request timed out from 10.75.15.x:52778 (enp4s0)\n",
      "[2619:738][79505] (stun_port.cc:96): Binding request timed out from 10.75.15.x:45468 (enp4s0)\n",
      "[2624:512][79505] (stun_port.cc:96): Binding request timed out from 10.75.15.x:35753 (enp4s0)\n"
     ]
    }
   ],
   "source": [
    "points_grid_pred = points_grid[0, pred_y_thresh[0]].cpu().numpy()\n",
    "print(points_grid_pred.shape)\n",
    "output_colors = np.zeros(points_grid_pred.shape)\n",
    "output_colors[:, 0] = 1\n",
    "output_pc = o3d.geometry.PointCloud()\n",
    "output_pc.points = o3d.utility.Vector3dVector(points_grid_pred)\n",
    "output_pc.colors = o3d.utility.Vector3dVector(output_colors)\n",
    "\n",
    "inputs_np = inputs.squeeze().cpu().numpy()\n",
    "input_colors = np.zeros(inputs_np.shape)\n",
    "input_colors[:, 1] = 1\n",
    "input_pc = o3d.geometry.PointCloud()\n",
    "input_pc.points = o3d.utility.Vector3dVector(inputs_np)\n",
    "input_pc.colors = o3d.utility.Vector3dVector(input_colors)\n",
    "\n",
    "draw([output_pc, input_pc])"
   ]
  }
 ],
 "metadata": {
  "kernelspec": {
   "display_name": "Python 3 (ipykernel)",
   "language": "python",
   "name": "python3"
  },
  "language_info": {
   "codemirror_mode": {
    "name": "ipython",
    "version": 3
   },
   "file_extension": ".py",
   "mimetype": "text/x-python",
   "name": "python",
   "nbconvert_exporter": "python",
   "pygments_lexer": "ipython3",
   "version": "3.8.10"
  }
 },
 "nbformat": 4,
 "nbformat_minor": 5
}
