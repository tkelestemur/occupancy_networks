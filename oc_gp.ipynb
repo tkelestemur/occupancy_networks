{
 "cells": [
  {
   "cell_type": "code",
   "execution_count": 1,
   "id": "34c46424",
   "metadata": {},
   "outputs": [
    {
     "name": "stdout",
     "output_type": "stream",
     "text": [
      "Jupyter environment detected. Enabling Open3D WebVisualizer.\n",
      "[Open3D INFO] WebRTC GUI backend enabled.\n",
      "[Open3D INFO] WebRTCWindowSystem: HTTP handshake server disabled.\n"
     ]
    }
   ],
   "source": [
    "import torch\n",
    "import numpy as np\n",
    "import open3d as o3d\n",
    "import gpytorch\n",
    "from im2mesh import config\n",
    "from im2mesh.checkpoints import CheckpointIO\n",
    "from im2mesh.common import make_3d_grid"
   ]
  },
  {
   "cell_type": "code",
   "execution_count": 2,
   "id": "84221e2c",
   "metadata": {},
   "outputs": [
    {
     "name": "stdout",
     "output_type": "stream",
     "text": [
      "https://s3.eu-central-1.amazonaws.com/avg-projects/occupancy_networks/models/onet_pcl2mesh-5c0be168.pt\n",
      "=> Loading checkpoint from url...\n"
     ]
    }
   ],
   "source": [
    "device = torch.device('cuda')\n",
    "cfg = config.load_config('configs/pointcloud/onet_pretrained.yaml', 'configs/default.yaml')\n",
    "\n",
    "dataset = config.get_dataset('test', cfg, return_idx=True)\n",
    "model = config.get_model(cfg, device=device, dataset=dataset)\n",
    "\n",
    "checkpoint_io = CheckpointIO(cfg['training']['out_dir'], model=model)\n",
    "re = checkpoint_io.load(cfg['test']['model_file'])"
   ]
  },
  {
   "cell_type": "code",
   "execution_count": 3,
   "id": "98878c90",
   "metadata": {},
   "outputs": [],
   "source": [
    "def get_data_sample(idx=500):\n",
    "\n",
    "    data = dataset[idx]\n",
    "    print(dataset.metadata[dataset.get_model_dict(idx)['category']])\n",
    "    \n",
    "    inputs = torch.from_numpy(data.get('inputs'))\n",
    "    inputs = inputs.unsqueeze(0).to(device)\n",
    "\n",
    "    points = torch.from_numpy(data.get('points'))\n",
    "    points = points.unsqueeze(0).to(device)\n",
    "    return inputs, points\n",
    "\n",
    "def predict(inputs, points):\n",
    "    kwargs = {}\n",
    "    model.eval()\n",
    "    with torch.no_grad():\n",
    "        c = model.encode_inputs(inputs)\n",
    "        occ_hat = model.decode(points, z=None, c=c, **kwargs).probs\n",
    "\n",
    "    return occ_hat.squeeze()"
   ]
  },
  {
   "cell_type": "code",
   "execution_count": 57,
   "id": "844cc3b8",
   "metadata": {},
   "outputs": [],
   "source": [
    "nx = 32\n",
    "box_size = 1.1\n",
    "points_grid = box_size * make_3d_grid((-0.5,)*3, (0.5,)*3, (nx,)*3)\n",
    "points_grid = points_grid.unsqueeze(0).to(device)"
   ]
  },
  {
   "cell_type": "code",
   "execution_count": 58,
   "id": "5788fc60",
   "metadata": {},
   "outputs": [
    {
     "name": "stdout",
     "output_type": "stream",
     "text": [
      "{'id': '02691156', 'name': 'airplane,aeroplane,plane', 'idx': 4}\n"
     ]
    }
   ],
   "source": [
    "inputs, points = get_data_sample(idx=2000)\n",
    "occ_hat = predict(inputs, points_grid)"
   ]
  },
  {
   "cell_type": "code",
   "execution_count": 59,
   "id": "0aa30082",
   "metadata": {},
   "outputs": [
    {
     "name": "stdout",
     "output_type": "stream",
     "text": [
      "num of points eval: torch.Size([32768])\n",
      "num of pred points: torch.Size([175])\n"
     ]
    }
   ],
   "source": [
    "occ_hat_pred = torch.where(occ_hat > 0.5)\n",
    "print('num of points eval: {}'.format(occ_hat.shape))\n",
    "print('num of pred points: {}'.format(occ_hat_pred[0].shape))"
   ]
  },
  {
   "cell_type": "code",
   "execution_count": 60,
   "id": "cfa521ce",
   "metadata": {},
   "outputs": [],
   "source": [
    "points_grid_np = points_grid.squeeze().cpu()\n",
    "grid_colors = np.zeros(points_grid_np.shape)\n",
    "grid_colors[:, 2] = 1\n",
    "grid_pc = o3d.geometry.PointCloud()\n",
    "grid_pc.points = o3d.utility.Vector3dVector(points_grid_np)\n",
    "grid_pc.colors = o3d.utility.Vector3dVector(grid_colors)\n",
    "\n",
    "points_grid_pred = points_grid[0, occ_hat_pred[0]].cpu().numpy()\n",
    "output_colors = np.zeros(points_grid_pred.shape)\n",
    "output_colors[:, 0] = 1\n",
    "output_pc = o3d.geometry.PointCloud()\n",
    "output_pc.points = o3d.utility.Vector3dVector(points_grid_pred)\n",
    "output_pc.colors = o3d.utility.Vector3dVector(output_colors)\n",
    "\n",
    "\n",
    "inputs_np = inputs.squeeze().cpu().numpy()\n",
    "input_colors = np.zeros(inputs_np.shape)\n",
    "input_colors[:, 1] = 1\n",
    "input_pc = o3d.geometry.PointCloud()\n",
    "input_pc.points = o3d.utility.Vector3dVector(inputs_np)\n",
    "input_pc.colors = o3d.utility.Vector3dVector(input_colors)\n",
    "\n",
    "o3d.visualization.draw_geometries([output_pc, input_pc])"
   ]
  },
  {
   "cell_type": "code",
   "execution_count": 69,
   "id": "16a4604d",
   "metadata": {},
   "outputs": [],
   "source": [
    "class ExactGPModel(gpytorch.models.ExactGP):\n",
    "    def __init__(self, train_x, train_y, likelihood, kernel='rbf', mean_fun='zero'):\n",
    "        super(ExactGPModel, self).__init__(train_x, train_y, likelihood)\n",
    "        if mean_fun == 'zero':\n",
    "            self.mean_module = gpytorch.means.ZeroMean()\n",
    "            \n",
    "        if kernel == 'rbf':\n",
    "            self.covar_module = gpytorch.kernels.RBFKernel()\n",
    "        \n",
    "        self.set_hparams()\n",
    "        \n",
    "    def forward(self, x):\n",
    "        mean_x = self.mean_module(x)\n",
    "        covar_x = self.covar_module(x)\n",
    "        return gpytorch.distributions.MultivariateNormal(mean_x, covar_x)\n",
    "    \n",
    "    def set_hparams(self, likelihood_noise=0.05, lengthscale=None):\n",
    "        if likelihood_noise is not None:\n",
    "            self.likelihood.noise = likelihood_noise\n",
    "        if lengthscale is not None:\n",
    "            self.covar_module.lengthscale = lengthscale\n",
    "\n",
    "def evaluate_gp(model, likelihood, test_x):\n",
    "    model.eval()\n",
    "    likelihood.eval()\n",
    "\n",
    "    with torch.no_grad():\n",
    "        pred_y = likelihood(model(test_x))\n",
    "    \n",
    "    return pred_y\n",
    "\n",
    "def train_gp(model, likelihood, num_iter=1000):\n",
    "    model.train()\n",
    "    likelihood.train()\n",
    "\n",
    "    optimizer = torch.optim.Adam(model.parameters(), lr=0.5) \n",
    "    mll = gpytorch.mlls.ExactMarginalLogLikelihood(likelihood, model)\n",
    "    for i in range(num_iter):\n",
    "        optimizer.zero_grad()\n",
    "        output = model(train_x)\n",
    "        loss = -mll(output, train_y)\n",
    "        loss.backward()\n",
    "#         print('Iter %d/%d - Loss: %.3f' % (i + 1, num_epochs, loss.item()))\n",
    "        optimizer.step()"
   ]
  },
  {
   "cell_type": "code",
   "execution_count": 70,
   "id": "633846bd",
   "metadata": {},
   "outputs": [],
   "source": [
    "train_x = inputs.squeeze().cpu()\n",
    "train_y = torch.ones(train_x.shape[0])\n",
    "likelihood_rbf = gpytorch.likelihoods.GaussianLikelihood()\n",
    "model_rbf = ExactGPModel(train_x, train_y, likelihood_rbf, kernel='rbf')"
   ]
  },
  {
   "cell_type": "code",
   "execution_count": 71,
   "id": "46887465",
   "metadata": {},
   "outputs": [
    {
     "name": "stdout",
     "output_type": "stream",
     "text": [
      "rbf likelihood noise:   0.05000000074505806\n",
      "rbf kernel lengthscale: 0.6931471824645996\n",
      "rbf likelihood noise:   0.00010002298949984834\n",
      "rbf kernel lengthscale: 68.6805648803711\n"
     ]
    }
   ],
   "source": [
    "print('rbf likelihood noise:   {}'.format(model_rbf.likelihood.noise.item()))\n",
    "print('rbf kernel lengthscale: {}'.format(model_rbf.covar_module.lengthscale.item()))\n",
    "train_gp(model_rbf, likelihood_rbf)\n",
    "print('rbf likelihood noise:   {}'.format(model_rbf.likelihood.noise.item()))\n",
    "print('rbf kernel lengthscale: {}'.format(model_rbf.covar_module.lengthscale.item()))"
   ]
  },
  {
   "cell_type": "code",
   "execution_count": 73,
   "id": "1276d673",
   "metadata": {},
   "outputs": [],
   "source": [
    "res_gp = 32\n",
    "points_grid_gp = box_size * make_3d_grid((-0.5,)*3, (0.5,)*3, (res_gp,)*3)\n",
    "pred_y = evaluate_gp(model_rbf, likelihood_rbf, points_grid_gp)"
   ]
  },
  {
   "cell_type": "code",
   "execution_count": 74,
   "id": "f6c88ec5",
   "metadata": {},
   "outputs": [
    {
     "data": {
      "text/plain": [
       "tensor(1.0000)"
      ]
     },
     "execution_count": 74,
     "metadata": {},
     "output_type": "execute_result"
    }
   ],
   "source": [
    "pred_y.mean.mean()"
   ]
  }
 ],
 "metadata": {
  "kernelspec": {
   "display_name": "Python 3 (ipykernel)",
   "language": "python",
   "name": "python3"
  },
  "language_info": {
   "codemirror_mode": {
    "name": "ipython",
    "version": 3
   },
   "file_extension": ".py",
   "mimetype": "text/x-python",
   "name": "python",
   "nbconvert_exporter": "python",
   "pygments_lexer": "ipython3",
   "version": "3.8.10"
  }
 },
 "nbformat": 4,
 "nbformat_minor": 5
}
